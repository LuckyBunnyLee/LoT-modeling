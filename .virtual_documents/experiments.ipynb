import numpy as np
import random
import itertools
import Levenshtein
import difflib
import seaborn as sns
import matplotlib.pyplot as plt
import pandas as pd
import warnings
warnings.filterwarnings('ignore')
from simulation import StringGenerator, plot_simulation


# Simulation

sets = [
    {'a','b','c','d'},
    {'c','d','e','f'},
    {'e','f','a','b'}
]

sg = StringGenerator(symbol_sets=sets, len_seq=4)
simulator = sg.Simulator(sg)
simulator.run_simulation()


plot_simulation(simulator.lcs_lengths, 'LCS')



