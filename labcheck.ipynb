{
 "cells": [
  {
   "cell_type": "code",
   "execution_count": 1,
   "metadata": {},
   "outputs": [],
   "source": [
    "import numpy as np\n",
    "import seaborn as sns\n",
    "import matplotlib.pyplot as plt\n",
    "import pandas as pd\n",
    "import warnings\n",
    "from uuid import uuid4 as ID\n",
    "warnings.filterwarnings('ignore')"
   ]
  },
  {
   "cell_type": "code",
   "execution_count": null,
   "metadata": {},
   "outputs": [],
   "source": [
    "from typing import List, Dict, Set, Tuple\n",
    "from itertools import permutations\n",
    "\n",
    "class NDElement: # n-dimensional element\n",
    "    def __init__(self, dims: int, *attributes):\n",
    "        if len(attributes) != dims:\n",
    "            raise ValueError(f\"Expected {dims} attributes, got {len(attributes)}\")\n",
    "        if dims not in (1,2):\n",
    "            raise ValueError(f\"dims should be 1 or 2.\")\n",
    "        self.dims = dims\n",
    "        self.attributes = attributes  \n",
    "        self.id = ID().hex\n",
    "        \n",
    "    def __hash__(self) -> int:\n",
    "        return hash(self.attributes)"
   ]
  },
  {
   "cell_type": "code",
   "execution_count": null,
   "metadata": {},
   "outputs": [],
   "source": [
    "class Classifier():\n",
    "    "
   ]
  },
  {
   "cell_type": "code",
   "execution_count": 23,
   "metadata": {},
   "outputs": [],
   "source": [
    "obj1 = NDElement(2, \"yellow\", \"square\")\n",
    "obj2 = NDElement(2, \"blue\", \"square\")\n",
    "obj3 = NDElement(2, \"yellow\", \"circle\")\n",
    "obj4 = NDElement(2, \"blue\", \"circle\")\n",
    "objs = (obj1,obj2,obj3,obj4)"
   ]
  },
  {
   "cell_type": "code",
   "execution_count": 26,
   "metadata": {},
   "outputs": [
    {
     "data": {
      "text/plain": [
       "'b83bb1a9e3cb402381c58bb8dedf2a46'"
      ]
     },
     "execution_count": 26,
     "metadata": {},
     "output_type": "execute_result"
    }
   ],
   "source": [
    "obj1.id"
   ]
  },
  {
   "cell_type": "code",
   "execution_count": 31,
   "metadata": {},
   "outputs": [],
   "source": [
    "perms = permutations(objs)"
   ]
  },
  {
   "cell_type": "code",
   "execution_count": 32,
   "metadata": {},
   "outputs": [
    {
     "name": "stdout",
     "output_type": "stream",
     "text": [
      "['b83bb1a9e3cb402381c58bb8dedf2a46', '2e38f3724b244751a146a87f36127f14', '360012e4df9947188b69bff096957e36', 'ff043a2009a547d0833bd562d3103ba6']\n",
      "['b83bb1a9e3cb402381c58bb8dedf2a46', '2e38f3724b244751a146a87f36127f14', 'ff043a2009a547d0833bd562d3103ba6', '360012e4df9947188b69bff096957e36']\n",
      "['b83bb1a9e3cb402381c58bb8dedf2a46', '360012e4df9947188b69bff096957e36', '2e38f3724b244751a146a87f36127f14', 'ff043a2009a547d0833bd562d3103ba6']\n",
      "['b83bb1a9e3cb402381c58bb8dedf2a46', '360012e4df9947188b69bff096957e36', 'ff043a2009a547d0833bd562d3103ba6', '2e38f3724b244751a146a87f36127f14']\n",
      "['b83bb1a9e3cb402381c58bb8dedf2a46', 'ff043a2009a547d0833bd562d3103ba6', '2e38f3724b244751a146a87f36127f14', '360012e4df9947188b69bff096957e36']\n",
      "['b83bb1a9e3cb402381c58bb8dedf2a46', 'ff043a2009a547d0833bd562d3103ba6', '360012e4df9947188b69bff096957e36', '2e38f3724b244751a146a87f36127f14']\n",
      "['2e38f3724b244751a146a87f36127f14', 'b83bb1a9e3cb402381c58bb8dedf2a46', '360012e4df9947188b69bff096957e36', 'ff043a2009a547d0833bd562d3103ba6']\n",
      "['2e38f3724b244751a146a87f36127f14', 'b83bb1a9e3cb402381c58bb8dedf2a46', 'ff043a2009a547d0833bd562d3103ba6', '360012e4df9947188b69bff096957e36']\n",
      "['2e38f3724b244751a146a87f36127f14', '360012e4df9947188b69bff096957e36', 'b83bb1a9e3cb402381c58bb8dedf2a46', 'ff043a2009a547d0833bd562d3103ba6']\n",
      "['2e38f3724b244751a146a87f36127f14', '360012e4df9947188b69bff096957e36', 'ff043a2009a547d0833bd562d3103ba6', 'b83bb1a9e3cb402381c58bb8dedf2a46']\n",
      "['2e38f3724b244751a146a87f36127f14', 'ff043a2009a547d0833bd562d3103ba6', 'b83bb1a9e3cb402381c58bb8dedf2a46', '360012e4df9947188b69bff096957e36']\n",
      "['2e38f3724b244751a146a87f36127f14', 'ff043a2009a547d0833bd562d3103ba6', '360012e4df9947188b69bff096957e36', 'b83bb1a9e3cb402381c58bb8dedf2a46']\n",
      "['360012e4df9947188b69bff096957e36', 'b83bb1a9e3cb402381c58bb8dedf2a46', '2e38f3724b244751a146a87f36127f14', 'ff043a2009a547d0833bd562d3103ba6']\n",
      "['360012e4df9947188b69bff096957e36', 'b83bb1a9e3cb402381c58bb8dedf2a46', 'ff043a2009a547d0833bd562d3103ba6', '2e38f3724b244751a146a87f36127f14']\n",
      "['360012e4df9947188b69bff096957e36', '2e38f3724b244751a146a87f36127f14', 'b83bb1a9e3cb402381c58bb8dedf2a46', 'ff043a2009a547d0833bd562d3103ba6']\n",
      "['360012e4df9947188b69bff096957e36', '2e38f3724b244751a146a87f36127f14', 'ff043a2009a547d0833bd562d3103ba6', 'b83bb1a9e3cb402381c58bb8dedf2a46']\n",
      "['360012e4df9947188b69bff096957e36', 'ff043a2009a547d0833bd562d3103ba6', 'b83bb1a9e3cb402381c58bb8dedf2a46', '2e38f3724b244751a146a87f36127f14']\n",
      "['360012e4df9947188b69bff096957e36', 'ff043a2009a547d0833bd562d3103ba6', '2e38f3724b244751a146a87f36127f14', 'b83bb1a9e3cb402381c58bb8dedf2a46']\n",
      "['ff043a2009a547d0833bd562d3103ba6', 'b83bb1a9e3cb402381c58bb8dedf2a46', '2e38f3724b244751a146a87f36127f14', '360012e4df9947188b69bff096957e36']\n",
      "['ff043a2009a547d0833bd562d3103ba6', 'b83bb1a9e3cb402381c58bb8dedf2a46', '360012e4df9947188b69bff096957e36', '2e38f3724b244751a146a87f36127f14']\n",
      "['ff043a2009a547d0833bd562d3103ba6', '2e38f3724b244751a146a87f36127f14', 'b83bb1a9e3cb402381c58bb8dedf2a46', '360012e4df9947188b69bff096957e36']\n",
      "['ff043a2009a547d0833bd562d3103ba6', '2e38f3724b244751a146a87f36127f14', '360012e4df9947188b69bff096957e36', 'b83bb1a9e3cb402381c58bb8dedf2a46']\n",
      "['ff043a2009a547d0833bd562d3103ba6', '360012e4df9947188b69bff096957e36', 'b83bb1a9e3cb402381c58bb8dedf2a46', '2e38f3724b244751a146a87f36127f14']\n",
      "['ff043a2009a547d0833bd562d3103ba6', '360012e4df9947188b69bff096957e36', '2e38f3724b244751a146a87f36127f14', 'b83bb1a9e3cb402381c58bb8dedf2a46']\n"
     ]
    }
   ],
   "source": [
    "for perm in perms:\n",
    "    print([elem.id for elem in perm])"
   ]
  },
  {
   "cell_type": "code",
   "execution_count": 35,
   "metadata": {},
   "outputs": [],
   "source": [
    "obj5, obj6, obj7, obj8 = (NDElement(1, 'yellow'),\n",
    "                          NDElement(1, 'yellow'),\n",
    "                          NDElement(1, 'blue'),\n",
    "                          NDElement(1, 'blue'))"
   ]
  }
 ],
 "metadata": {
  "kernelspec": {
   "display_name": ".venv",
   "language": "python",
   "name": "python3"
  },
  "language_info": {
   "codemirror_mode": {
    "name": "ipython",
    "version": 3
   },
   "file_extension": ".py",
   "mimetype": "text/x-python",
   "name": "python",
   "nbconvert_exporter": "python",
   "pygments_lexer": "ipython3",
   "version": "3.13.2"
  }
 },
 "nbformat": 4,
 "nbformat_minor": 2
}
