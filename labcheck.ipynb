{
 "cells": [
  {
   "cell_type": "code",
   "execution_count": null,
   "metadata": {},
   "outputs": [],
   "source": [
    "import numpy as np\n",
    "import seaborn as sns\n",
    "import matplotlib.pyplot as plt\n",
    "import pandas as pd\n",
    "import warnings\n",
    "from uuid import SafeUUID as ID\n",
    "warnings.filterwarnings('ignore')\n",
    "from simulation import StringGenerator, plot_simulation\n",
    "from canon_strings import NDElement"
   ]
  },
  {
   "cell_type": "code",
   "execution_count": null,
   "metadata": {},
   "outputs": [],
   "source": [
    "from typing import List, Dict, Set, Tuple\n",
    "from itertools import permutations\n",
    "\n",
    "class NDElement: # n-dimensional element\n",
    "    def __init__(self, n_attributes: int, *attributes):\n",
    "        if len(attributes) != n_attributes:\n",
    "            raise ValueError(f\"Expected {n_attributes} attributes, got {len(attributes)}\")\n",
    "        self.n_attributes = n_attributes\n",
    "        self.attributes = attributes  \n",
    "        self.id = ID()  \n",
    "        \n",
    "    def __hash__(self) -> int:\n",
    "        return hash(self.attributes)"
   ]
  },
  {
   "cell_type": "code",
   "execution_count": 12,
   "metadata": {},
   "outputs": [],
   "source": [
    "obj1 = NDElement(2, \"yellow\", \"square\")\n",
    "obj2 = NDElement(2, \"blue\", \"square\")\n",
    "obj3 = NDElement(2, \"yellow\", \"circle\")\n",
    "obj4 = NDElement(2, \"blue\", \"circle\")\n",
    "objs = (obj1,obj2,obj3,obj4)"
   ]
  },
  {
   "cell_type": "code",
   "execution_count": 8,
   "metadata": {},
   "outputs": [
    {
     "name": "stdout",
     "output_type": "stream",
     "text": [
      "{'chunk': set(), 'alternate': {'yellowblueyellowblue', 'yellowblueblueyellow', 'blueblueyellowyellow', 'blueyellowblueyellow', 'blueyellowyellowblue'}, 'palindrome': set(), 'other': {'yellowyellowblueblue'}}\n"
     ]
    }
   ],
   "source": [
    "print(generate_unique_patterns(objs))"
   ]
  },
  {
   "cell_type": "code",
   "execution_count": 14,
   "metadata": {},
   "outputs": [
    {
     "data": {
      "text/plain": [
       "'square'"
      ]
     },
     "execution_count": 14,
     "metadata": {},
     "output_type": "execute_result"
    }
   ],
   "source": [
    "obj1.attributes[1]"
   ]
  },
  {
   "cell_type": "code",
   "execution_count": 33,
   "metadata": {},
   "outputs": [
    {
     "name": "stdout",
     "output_type": "stream",
     "text": [
      "<itertools.permutations object at 0x10d8c9c60>\n"
     ]
    }
   ],
   "source": [
    "perms = permutations(objs)\n",
    "print(perms)"
   ]
  },
  {
   "cell_type": "code",
   "execution_count": 34,
   "metadata": {},
   "outputs": [
    {
     "name": "stdout",
     "output_type": "stream",
     "text": [
      "[('yellow', 'square'), ('blue', 'square'), ('yellow', 'circle'), ('blue', 'circle')]\n",
      "[('yellow', 'square'), ('blue', 'square'), ('blue', 'circle'), ('yellow', 'circle')]\n",
      "[('yellow', 'square'), ('yellow', 'circle'), ('blue', 'square'), ('blue', 'circle')]\n",
      "[('yellow', 'square'), ('yellow', 'circle'), ('blue', 'circle'), ('blue', 'square')]\n",
      "[('yellow', 'square'), ('blue', 'circle'), ('blue', 'square'), ('yellow', 'circle')]\n",
      "[('yellow', 'square'), ('blue', 'circle'), ('yellow', 'circle'), ('blue', 'square')]\n",
      "[('blue', 'square'), ('yellow', 'square'), ('yellow', 'circle'), ('blue', 'circle')]\n",
      "[('blue', 'square'), ('yellow', 'square'), ('blue', 'circle'), ('yellow', 'circle')]\n",
      "[('blue', 'square'), ('yellow', 'circle'), ('yellow', 'square'), ('blue', 'circle')]\n",
      "[('blue', 'square'), ('yellow', 'circle'), ('blue', 'circle'), ('yellow', 'square')]\n",
      "[('blue', 'square'), ('blue', 'circle'), ('yellow', 'square'), ('yellow', 'circle')]\n",
      "[('blue', 'square'), ('blue', 'circle'), ('yellow', 'circle'), ('yellow', 'square')]\n",
      "[('yellow', 'circle'), ('yellow', 'square'), ('blue', 'square'), ('blue', 'circle')]\n",
      "[('yellow', 'circle'), ('yellow', 'square'), ('blue', 'circle'), ('blue', 'square')]\n",
      "[('yellow', 'circle'), ('blue', 'square'), ('yellow', 'square'), ('blue', 'circle')]\n",
      "[('yellow', 'circle'), ('blue', 'square'), ('blue', 'circle'), ('yellow', 'square')]\n",
      "[('yellow', 'circle'), ('blue', 'circle'), ('yellow', 'square'), ('blue', 'square')]\n",
      "[('yellow', 'circle'), ('blue', 'circle'), ('blue', 'square'), ('yellow', 'square')]\n",
      "[('blue', 'circle'), ('yellow', 'square'), ('blue', 'square'), ('yellow', 'circle')]\n",
      "[('blue', 'circle'), ('yellow', 'square'), ('yellow', 'circle'), ('blue', 'square')]\n",
      "[('blue', 'circle'), ('blue', 'square'), ('yellow', 'square'), ('yellow', 'circle')]\n",
      "[('blue', 'circle'), ('blue', 'square'), ('yellow', 'circle'), ('yellow', 'square')]\n",
      "[('blue', 'circle'), ('yellow', 'circle'), ('yellow', 'square'), ('blue', 'square')]\n",
      "[('blue', 'circle'), ('yellow', 'circle'), ('blue', 'square'), ('yellow', 'square')]\n"
     ]
    }
   ],
   "source": [
    "for perm in perms:\n",
    "    print([elem.attributes for elem in perm])"
   ]
  },
  {
   "cell_type": "code",
   "execution_count": 35,
   "metadata": {},
   "outputs": [],
   "source": [
    "obj5, obj6, obj7, obj8 = (NDElement(1, 'yellow'),\n",
    "                          NDElement(1, 'yellow'),\n",
    "                          NDElement(1, 'blue'),\n",
    "                          NDElement(1, 'blue'))"
   ]
  }
 ],
 "metadata": {
  "kernelspec": {
   "display_name": ".venv",
   "language": "python",
   "name": "python3"
  },
  "language_info": {
   "codemirror_mode": {
    "name": "ipython",
    "version": 3
   },
   "file_extension": ".py",
   "mimetype": "text/x-python",
   "name": "python",
   "nbconvert_exporter": "python",
   "pygments_lexer": "ipython3",
   "version": "3.13.2"
  }
 },
 "nbformat": 4,
 "nbformat_minor": 2
}
