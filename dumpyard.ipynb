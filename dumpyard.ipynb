{
 "cells": [
  {
   "cell_type": "code",
   "execution_count": 412,
   "id": "e6f0a46d-dc6e-4625-8cd0-07b704a90307",
   "metadata": {},
   "outputs": [],
   "source": [
    "import numpy as np\n",
    "import random\n",
    "import itertools\n",
    "import Levenshtein\n",
    "import difflib\n",
    "import seaborn as sns\n",
    "import matplotlib.pyplot as plt\n",
    "import pandas as pd\n",
    "import warnings\n",
    "warnings.filterwarnings('ignore')"
   ]
  },
  {
   "cell_type": "code",
   "execution_count": 444,
   "id": "6c9127ac-614b-451e-b497-dcb07750f4a7",
   "metadata": {},
   "outputs": [],
   "source": [
    "class StringGenerator:\n",
    "\n",
    "    def __init__(self, symbol_sets, len_seq, n_seq=6, n_rounds=1000):\n",
    "        self.symbol_sets = symbol_sets\n",
    "        self.len_seq = len_seq\n",
    "        self.symbols = set.union(*symbol_sets)\n",
    "        self.n_seq = n_seq\n",
    "        self.n_rounds = n_rounds\n",
    "\n",
    "    class Round:\n",
    "        \n",
    "        def __init__(self, symbol_sets, len_seq, n_seq=6):\n",
    "            self.symbol_sets = symbol_sets\n",
    "            self.len_seq = len_seq\n",
    "            self.n_seq = n_seq\n",
    "            self.sequences = self.round(n_seq)\n",
    "            self.sequence_list = list(itertools.chain.from_iterable(self.sequences))\n",
    "            self.pairs = list(itertools.combinations(self.sequence_list, 2))\n",
    "            self.levenshtein = np.array([Levenshtein.distance(s1, s2) for s1, s2 in self.pairs])\n",
    "            self.lcs = np.array([self.longest_common_substring(s1, s2) for s1, s2 in self.pairs])\n",
    "            self.lcs_lengths = np.array([len(lcs) for lcs in self.lcs])\n",
    "\n",
    "        @staticmethod\n",
    "        def longest_common_substring(s1, s2):\n",
    "            matcher = difflib.SequenceMatcher(None, s1, s2)\n",
    "            match = matcher.find_longest_match(0, len(s1), 0, len(s2))\n",
    "            return s1[match.a: match.a + match.size]\n",
    "\n",
    "        def sequencer(self):\n",
    "            permutations = [\"\".join(random.sample(list(symbol_set), self.len_seq)) for symbol_set in self.symbol_sets]\n",
    "            return permutations\n",
    "    \n",
    "        def round(self, n_seq):\n",
    "            sequences = []\n",
    "            for _ in range(n_seq):\n",
    "                sequences += [self.sequencer()]\n",
    "            return sequences\n",
    "\n",
    "    class Simulator:\n",
    "\n",
    "        def __init__(self, parent, n_seq=6, n_rounds=1000):\n",
    "            self.parent = parent\n",
    "            self.n_seq = n_seq\n",
    "            self.n_rounds = n_rounds\n",
    "            self.levenshtein = None\n",
    "            self.lcs = None\n",
    "            self.lcs_length = None\n",
    "            \n",
    "        def run_simulation(self):\n",
    "            all_levenshtein = []\n",
    "            all_lcs = []\n",
    "            all_lcs_length = []\n",
    "            len_seq = self.parent.len_seq\n",
    "            \n",
    "            for _ in range(self.n_rounds):\n",
    "                round_instance = self.parent.Round(self.parent.symbol_sets, self.parent.len_seq, self.n_seq)\n",
    "                all_levenshtein.extend(round_instance.levenshtein)\n",
    "                all_lcs.extend(round_instance.lcs)\n",
    "                all_lcs_length.extend(round_instance.lcs_lengths)\n",
    "\n",
    "            # Store the results as attributes of the instance\n",
    "            self.levenshtein = np.array(all_levenshtein)\n",
    "            self.similarity = np.array(all_levenshtein) / len_seq\n",
    "            self.lcs = np.array(all_lcs)\n",
    "            self.lcs_lengths = np.array(all_lcs_length)\n",
    "\n",
    "            return (self.levenshtein, self.lcs, self.lcs_lengths)\n",
    "            \n",
    "            \n"
   ]
  },
  {
   "cell_type": "code",
   "execution_count": 445,
   "id": "f6843974-e3bd-4c24-bdeb-bd4a907a8755",
   "metadata": {},
   "outputs": [],
   "source": [
    "def plot_simulation(simulation):\n",
    "    sns.set(style=\"whitegrid\")\n",
    "    fig, axes = plt.subplots(2, 2, figsize=(12, 10))\n",
    "    fig.suptitle(\"Metric Distributions\", fontsize=16)\n",
    "    \n",
    "    \n",
    "    # Compute shared x and y ticks for the first two and last two plots\n",
    "    x_ticks_1 = range(int(min(metric1)), int(max(metric1)) + 1)\n",
    "    x_ticks_2 = range(int(min(metric3)), int(max(metric3)) + 1)\n",
    "    y_max_1 = max(max(metric1), max(metric2))\n",
    "    y_max_2 = max(max(metric3), max(metric4))\n",
    "\n",
    "    metrics = [metric1, metric2, metric3, metric4]\n",
    "    titles = [\"Levenshtein Distance\", \"Longest Common Substring\", \"Similaity\", \"Longest Common Substring (normalized)\"]\n",
    "\n",
    "    for i, (metric, title) in enumerate(zip(metrics, titles)):\n",
    "        ax = axes[i // 2, i % 2]\n",
    "        sns.histplot(metric, discrete=True, bins=int(max(metric)-min(metric)+1), ax=ax)\n",
    "\n",
    "        # Set shared ticks\n",
    "        if i < 2:  # First row\n",
    "            ax.set_xticks(x_ticks_1)\n",
    "            ax.set_ylim(0, y_max_1)\n",
    "        else:  # Second row\n",
    "            ax.set_xticks(x_ticks_2)\n",
    "            ax.set_ylim(0, y_max_2)\n",
    "\n",
    "        ax.set_title(title, fontsize=14)\n",
    "        ax.set_xlabel(\"Value\", fontsize=12)\n",
    "\n",
    "        for patch in ax.patches:\n",
    "            height = patch.get_height()\n",
    "            ax.annotate(f'{int(height)}', \n",
    "                        (patch.get_x() + patch.get_width() / 2., height),\n",
    "                        ha='center', va='center', fontsize=10, color='black', xytext=(0, 5), textcoords='offset points')\n",
    "\n",
    "    plt.tight_layout(rect=[0, 0, 1, 0.96])\n",
    "    plt.show()\n"
   ]
  },
  {
   "cell_type": "code",
   "execution_count": 449,
   "id": "7f4e2db1-96fc-4b02-a847-b133784291de",
   "metadata": {},
   "outputs": [],
   "source": [
    "# Simulation\n",
    "\n",
    "sets1 = [\n",
    "    {'a','b','c','d'},\n",
    "    {'c','d','e','f'},\n",
    "    {'e','f','a','b'}\n",
    "]\n",
    "\n",
    "sets2 = [\n",
    "    {'a','b','c','d','e','f'},\n",
    "    {'d','e','f','g','h','i'},\n",
    "    {'g','h','i','a','b','c'}\n",
    "]"
   ]
  },
  {
   "cell_type": "code",
   "execution_count": 450,
   "id": "918319a6-c3de-4c02-9107-f1aac66c1dac",
   "metadata": {},
   "outputs": [],
   "source": [
    "sg = StringGenerator(symbol_sets=sets2, len_seq=6)\n",
    "simulator = sg.Simulator(sg)\n",
    "sim1 = simulator.run_simulation()"
   ]
  },
  {
   "cell_type": "code",
   "execution_count": 451,
   "id": "defb587d-b0da-498f-9fe6-ab02734c84cc",
   "metadata": {},
   "outputs": [
    {
     "ename": "AttributeError",
     "evalue": "'tuple' object has no attribute 'levenshtein'",
     "output_type": "error",
     "traceback": [
      "\u001b[0;31m---------------------------------------------------------------------------\u001b[0m",
      "\u001b[0;31mAttributeError\u001b[0m                            Traceback (most recent call last)",
      "Cell \u001b[0;32mIn[451], line 1\u001b[0m\n\u001b[0;32m----> 1\u001b[0m plot_simulation(sim1)\n",
      "Cell \u001b[0;32mIn[445], line 6\u001b[0m, in \u001b[0;36mplot_simulation\u001b[0;34m(simulator)\u001b[0m\n\u001b[1;32m      3\u001b[0m fig, axes \u001b[38;5;241m=\u001b[39m plt\u001b[38;5;241m.\u001b[39msubplots(\u001b[38;5;241m2\u001b[39m, \u001b[38;5;241m2\u001b[39m, figsize\u001b[38;5;241m=\u001b[39m(\u001b[38;5;241m12\u001b[39m, \u001b[38;5;241m10\u001b[39m))\n\u001b[1;32m      4\u001b[0m fig\u001b[38;5;241m.\u001b[39msuptitle(\u001b[38;5;124m\"\u001b[39m\u001b[38;5;124mMetric Distributions\u001b[39m\u001b[38;5;124m\"\u001b[39m, fontsize\u001b[38;5;241m=\u001b[39m\u001b[38;5;241m16\u001b[39m)\n\u001b[0;32m----> 6\u001b[0m metric1 \u001b[38;5;241m=\u001b[39m simulator\u001b[38;5;241m.\u001b[39mlevenshtein\n\u001b[1;32m      7\u001b[0m metric1 \u001b[38;5;241m=\u001b[39m simulator\u001b[38;5;241m.\u001b[39mlcs_lengths\n\u001b[1;32m      8\u001b[0m metric1 \u001b[38;5;241m=\u001b[39m simulator\u001b[38;5;241m.\u001b[39msimilarity\n",
      "\u001b[0;31mAttributeError\u001b[0m: 'tuple' object has no attribute 'levenshtein'"
     ]
    },
    {
     "data": {
      "image/png": "[encoded data removed]",
      "text/plain": [
       "<Figure size 1200x1000 with 4 Axes>"
      ]
     },
     "metadata": {},
     "output_type": "display_data"
    }
   ],
   "source": [
    "plot_simulation(sim1)"
   ]
  },
  {
   "cell_type": "code",
   "execution_count": null,
   "id": "983dbcb1-480b-4267-bdcf-26ac4e2f9269",
   "metadata": {},
   "outputs": [],
   "source": []
  }
 ],
 "metadata": {
  "kernelspec": {
   "display_name": "Python 3 (ipykernel)",
   "language": "python",
   "name": "python3"
  },
  "language_info": {
   "codemirror_mode": {
    "name": "ipython",
    "version": 3
   },
   "file_extension": ".py",
   "mimetype": "text/x-python",
   "name": "python",
   "nbconvert_exporter": "python",
   "pygments_lexer": "ipython3",
   "version": "3.11.7"
  }
 },
 "nbformat": 4,
 "nbformat_minor": 5
}
