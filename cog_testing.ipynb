{
 "cells": [
  {
   "cell_type": "code",
   "execution_count": 1,
   "id": "081f22f1",
   "metadata": {},
   "outputs": [],
   "source": [
    "import numpy as np\n",
    "import seaborn as sns\n",
    "import matplotlib.pyplot as plt\n",
    "import pandas as pd\n",
    "from utils import Element\n",
    "import warnings\n",
    "import cognitive_functions as cf\n",
    "warnings.filterwarnings('ignore')"
   ]
  },
  {
   "cell_type": "code",
   "execution_count": 2,
   "id": "831c5eaf",
   "metadata": {},
   "outputs": [],
   "source": [
    "a = Element('A1','A','1')\n",
    "b = Element('A2','A','2')\n",
    "c = Element('B1','B','1')\n",
    "d = Element('B2','B','2')\n",
    "e = Element('C1','C','1')\n",
    "f = Element('C2','C','2')\n",
    "g = Element('D1','D','1')\n",
    "h = Element('D2','D','2')\n",
    "i = Element('E1','E','1')\n",
    "j = Element('E2','E','2')\n",
    "k = Element('F1','F','1')\n",
    "l = Element('F2','F','2')"
   ]
  },
  {
   "cell_type": "code",
   "execution_count": 3,
   "id": "8e512e91",
   "metadata": {},
   "outputs": [],
   "source": [
    "train_1 = {a,b,c,d}\n",
    "train_2 = {a,b,e,f}\n",
    "test_1 = {c,d,e,f}\n",
    "test_2 = {a,b,c,d,e,f}\n",
    "test_3 = {g,h,i,j}\n",
    "test_4 = {g,h,k,l}\n",
    "test_5 = {i,j,k,l}\n",
    "test_6 = {g,h,i,j,k,l}"
   ]
  },
  {
   "cell_type": "code",
   "execution_count": 4,
   "id": "030b28dc",
   "metadata": {},
   "outputs": [
    {
     "ename": "NameError",
     "evalue": "name 'KComplexity' is not defined",
     "output_type": "error",
     "traceback": [
      "\u001b[1;31m---------------------------------------------------------------------------\u001b[0m",
      "\u001b[1;31mNameError\u001b[0m                                 Traceback (most recent call last)",
      "Cell \u001b[1;32mIn[4], line 10\u001b[0m\n\u001b[0;32m      7\u001b[0m \u001b[38;5;28;01mimport\u001b[39;00m\u001b[38;5;250m \u001b[39m\u001b[38;5;21;01mcognitive_functions\u001b[39;00m\u001b[38;5;250m \u001b[39m\u001b[38;5;28;01mas\u001b[39;00m\u001b[38;5;250m \u001b[39m\u001b[38;5;21;01mcf\u001b[39;00m\n\u001b[0;32m      8\u001b[0m warnings\u001b[38;5;241m.\u001b[39mfilterwarnings(\u001b[38;5;124m'\u001b[39m\u001b[38;5;124mignore\u001b[39m\u001b[38;5;124m'\u001b[39m)\n\u001b[1;32m---> 10\u001b[0m kc \u001b[38;5;241m=\u001b[39m \u001b[43mKComplexity\u001b[49m()\n\u001b[0;32m     11\u001b[0m kc\u001b[38;5;241m.\u001b[39mreset()\n\u001b[0;32m     12\u001b[0m cf\u001b[38;5;241m.\u001b[39miterate(train_1)\n",
      "\u001b[1;31mNameError\u001b[0m: name 'KComplexity' is not defined"
     ]
    }
   ],
   "source": [
    "import numpy as np\n",
    "import seaborn as sns\n",
    "import matplotlib.pyplot as plt\n",
    "import pandas as pd\n",
    "from utils import Element\n",
    "import warnings\n",
    "import cognitive_functions as cf\n",
    "warnings.filterwarnings('ignore')\n",
    "\n",
    "kc = KComplexity()\n",
    "kc.reset()\n",
    "cf.iterate(train_1)\n",
    "kc.get_k_complexity()\n",
    "kc.get_prim_counts()\n"
   ]
  },
  {
   "cell_type": "code",
   "execution_count": null,
   "id": "034a7977",
   "metadata": {},
   "outputs": [
    {
     "ename": "AttributeError",
     "evalue": "'set' object has no attribute 'edges'",
     "output_type": "error",
     "traceback": [
      "\u001b[1;31m---------------------------------------------------------------------------\u001b[0m",
      "\u001b[1;31mAttributeError\u001b[0m                            Traceback (most recent call last)",
      "Cell \u001b[1;32mIn[21], line 12\u001b[0m\n\u001b[0;32m     10\u001b[0m kc \u001b[38;5;241m=\u001b[39m KComplexity()\n\u001b[0;32m     11\u001b[0m kc\u001b[38;5;241m.\u001b[39mreset()\n\u001b[1;32m---> 12\u001b[0m \u001b[43mcf\u001b[49m\u001b[38;5;241;43m.\u001b[39;49m\u001b[43mpalindrome\u001b[49m\u001b[43m(\u001b[49m\u001b[43mtrain_1\u001b[49m\u001b[43m)\u001b[49m\n\u001b[0;32m     13\u001b[0m kc\u001b[38;5;241m.\u001b[39mget_k_complexity()\n\u001b[0;32m     14\u001b[0m kc\u001b[38;5;241m.\u001b[39mget_prim_counts()\n",
      "File \u001b[1;32mc:\\Users\\desig\\Desktop\\vs code\\LoT\\LoT-modeling\\cognitive_functions.py:67\u001b[0m, in \u001b[0;36mpalindrome\u001b[1;34m(S)\u001b[0m\n\u001b[0;32m     65\u001b[0m         pf\u001b[38;5;241m.\u001b[39msetminus(S, element)\n\u001b[0;32m     66\u001b[0m \u001b[38;5;28;01mfor\u001b[39;00m _ \u001b[38;5;129;01min\u001b[39;00m \u001b[38;5;28mrange\u001b[39m(n):\n\u001b[1;32m---> 67\u001b[0m     element \u001b[38;5;241m=\u001b[39m \u001b[43mpf\u001b[49m\u001b[38;5;241;43m.\u001b[39;49m\u001b[43mwrite_random\u001b[49m\u001b[43m(\u001b[49m\u001b[43mS\u001b[49m\u001b[43m,\u001b[49m\u001b[43m \u001b[49m\u001b[43mbias\u001b[49m\u001b[43m,\u001b[49m\u001b[43m \u001b[49m\u001b[38;5;28;43mgetattr\u001b[39;49m\u001b[43m(\u001b[49m\u001b[43mbasis\u001b[49m\u001b[43m[\u001b[49m\u001b[43mn\u001b[49m\u001b[38;5;241;43m-\u001b[39;49m\u001b[38;5;241;43m1\u001b[39;49m\u001b[38;5;241;43m-\u001b[39;49m\u001b[43m_\u001b[49m\u001b[43m]\u001b[49m\u001b[43m,\u001b[49m\u001b[43m \u001b[49m\u001b[43mbias\u001b[49m\u001b[43m)\u001b[49m\u001b[43m)\u001b[49m\n\u001b[0;32m     68\u001b[0m     pf\u001b[38;5;241m.\u001b[39mpair(rev,element)\n\u001b[0;32m     69\u001b[0m     pf\u001b[38;5;241m.\u001b[39msetminus(S, element)\n",
      "File \u001b[1;32mc:\\Users\\desig\\Desktop\\vs code\\LoT\\LoT-modeling\\utils.py:167\u001b[0m, in \u001b[0;36mKComplexity._make_wrapper.<locals>.wrapper\u001b[1;34m(*args, **kwargs)\u001b[0m\n\u001b[0;32m    165\u001b[0m \u001b[38;5;28;01mdef\u001b[39;00m\u001b[38;5;250m \u001b[39m\u001b[38;5;21mwrapper\u001b[39m(\u001b[38;5;241m*\u001b[39margs, \u001b[38;5;241m*\u001b[39m\u001b[38;5;241m*\u001b[39mkwargs):\n\u001b[0;32m    166\u001b[0m     \u001b[38;5;28mself\u001b[39m\u001b[38;5;241m.\u001b[39mcall_counts[name] \u001b[38;5;241m+\u001b[39m\u001b[38;5;241m=\u001b[39m \u001b[38;5;241m1\u001b[39m\n\u001b[1;32m--> 167\u001b[0m     \u001b[38;5;28;01mreturn\u001b[39;00m \u001b[43mfunc\u001b[49m\u001b[43m(\u001b[49m\u001b[38;5;241;43m*\u001b[39;49m\u001b[43margs\u001b[49m\u001b[43m,\u001b[49m\u001b[43m \u001b[49m\u001b[38;5;241;43m*\u001b[39;49m\u001b[38;5;241;43m*\u001b[39;49m\u001b[43mkwargs\u001b[49m\u001b[43m)\u001b[49m\n",
      "File \u001b[1;32mc:\\Users\\desig\\Desktop\\vs code\\LoT\\LoT-modeling\\utils.py:167\u001b[0m, in \u001b[0;36mKComplexity._make_wrapper.<locals>.wrapper\u001b[1;34m(*args, **kwargs)\u001b[0m\n\u001b[0;32m    165\u001b[0m \u001b[38;5;28;01mdef\u001b[39;00m\u001b[38;5;250m \u001b[39m\u001b[38;5;21mwrapper\u001b[39m(\u001b[38;5;241m*\u001b[39margs, \u001b[38;5;241m*\u001b[39m\u001b[38;5;241m*\u001b[39mkwargs):\n\u001b[0;32m    166\u001b[0m     \u001b[38;5;28mself\u001b[39m\u001b[38;5;241m.\u001b[39mcall_counts[name] \u001b[38;5;241m+\u001b[39m\u001b[38;5;241m=\u001b[39m \u001b[38;5;241m1\u001b[39m\n\u001b[1;32m--> 167\u001b[0m     \u001b[38;5;28;01mreturn\u001b[39;00m \u001b[43mfunc\u001b[49m\u001b[43m(\u001b[49m\u001b[38;5;241;43m*\u001b[39;49m\u001b[43margs\u001b[49m\u001b[43m,\u001b[49m\u001b[43m \u001b[49m\u001b[38;5;241;43m*\u001b[39;49m\u001b[38;5;241;43m*\u001b[39;49m\u001b[43mkwargs\u001b[49m\u001b[43m)\u001b[49m\n",
      "    \u001b[1;31m[... skipping similar frames: KComplexity._make_wrapper.<locals>.wrapper at line 167 (1 times)]\u001b[0m\n",
      "File \u001b[1;32mc:\\Users\\desig\\Desktop\\vs code\\LoT\\LoT-modeling\\utils.py:167\u001b[0m, in \u001b[0;36mKComplexity._make_wrapper.<locals>.wrapper\u001b[1;34m(*args, **kwargs)\u001b[0m\n\u001b[0;32m    165\u001b[0m \u001b[38;5;28;01mdef\u001b[39;00m\u001b[38;5;250m \u001b[39m\u001b[38;5;21mwrapper\u001b[39m(\u001b[38;5;241m*\u001b[39margs, \u001b[38;5;241m*\u001b[39m\u001b[38;5;241m*\u001b[39mkwargs):\n\u001b[0;32m    166\u001b[0m     \u001b[38;5;28mself\u001b[39m\u001b[38;5;241m.\u001b[39mcall_counts[name] \u001b[38;5;241m+\u001b[39m\u001b[38;5;241m=\u001b[39m \u001b[38;5;241m1\u001b[39m\n\u001b[1;32m--> 167\u001b[0m     \u001b[38;5;28;01mreturn\u001b[39;00m \u001b[43mfunc\u001b[49m\u001b[43m(\u001b[49m\u001b[38;5;241;43m*\u001b[39;49m\u001b[43margs\u001b[49m\u001b[43m,\u001b[49m\u001b[43m \u001b[49m\u001b[38;5;241;43m*\u001b[39;49m\u001b[38;5;241;43m*\u001b[39;49m\u001b[43mkwargs\u001b[49m\u001b[43m)\u001b[49m\n",
      "File \u001b[1;32mc:\\Users\\desig\\Desktop\\vs code\\LoT\\LoT-modeling\\primitive_fucntions.py:97\u001b[0m, in \u001b[0;36mwrite_random\u001b[1;34m(G, bias, type)\u001b[0m\n\u001b[0;32m     92\u001b[0m \u001b[38;5;250m\u001b[39m\u001b[38;5;124;03m\"\"\"Returns one unused member of particular type\u001b[39;00m\n\u001b[0;32m     93\u001b[0m \u001b[38;5;124;03mTime complexity: O(n) to filter tokens\"\"\"\u001b[39;00m\n\u001b[0;32m     94\u001b[0m \u001b[38;5;66;03m# for element in S:\u001b[39;00m\n\u001b[0;32m     95\u001b[0m \u001b[38;5;66;03m#     if getattr(element, bias) == type:\u001b[39;00m\n\u001b[0;32m     96\u001b[0m \u001b[38;5;66;03m#         return element\u001b[39;00m\n\u001b[1;32m---> 97\u001b[0m type_elements \u001b[38;5;241m=\u001b[39m [u \u001b[38;5;28;01mfor\u001b[39;00m u, v, d \u001b[38;5;129;01min\u001b[39;00m \u001b[43mG\u001b[49m\u001b[38;5;241;43m.\u001b[39;49m\u001b[43medges\u001b[49m(data\u001b[38;5;241m=\u001b[39m\u001b[38;5;28;01mTrue\u001b[39;00m) \u001b[38;5;28;01mif\u001b[39;00m v \u001b[38;5;241m==\u001b[39m \u001b[38;5;28mtype\u001b[39m \u001b[38;5;129;01mand\u001b[39;00m d[\u001b[38;5;124m\"\u001b[39m\u001b[38;5;124mlabel\u001b[39m\u001b[38;5;124m\"\u001b[39m] \u001b[38;5;241m==\u001b[39m bias]\n\u001b[0;32m     99\u001b[0m     \u001b[38;5;66;03m### WRITE CODE\u001b[39;00m\n\u001b[0;32m    100\u001b[0m     \u001b[38;5;66;03m### maybe add a random list shuffling thing here\u001b[39;00m\n\u001b[0;32m    101\u001b[0m     \u001b[38;5;66;03m### to make it less predictable\u001b[39;00m\n\u001b[0;32m    103\u001b[0m \u001b[38;5;28;01mpass\u001b[39;00m\n",
      "\u001b[1;31mAttributeError\u001b[0m: 'set' object has no attribute 'edges'"
     ]
    }
   ],
   "source": [
    "import numpy as np\n",
    "import seaborn as sns\n",
    "import matplotlib.pyplot as plt\n",
    "import pandas as pd\n",
    "from utils import Element\n",
    "import warnings\n",
    "import cognitive_functions as cf\n",
    "warnings.filterwarnings('ignore')\n",
    "\n",
    "kc = KComplexity()\n",
    "kc.reset()\n",
    "cf.palindrome(train_1)\n",
    "kc.get_k_complexity()\n",
    "kc.get_prim_counts()"
   ]
  },
  {
   "cell_type": "code",
   "execution_count": null,
   "id": "df882383",
   "metadata": {},
   "outputs": [
    {
     "data": {
      "text/plain": [
       "{'add': 0,\n",
       " 'append': 0,\n",
       " 'check_if_same_type': 0,\n",
       " 'dim_set': 0,\n",
       " 'flip': 1,\n",
       " 'implement': 0,\n",
       " 'list_create': 0,\n",
       " 'merge': 0,\n",
       " 'pair': 1,\n",
       " 'remove': 0,\n",
       " 'remove_item': 0,\n",
       " 'sample': 1,\n",
       " 'setminus': 1,\n",
       " 'write_all': 0,\n",
       " 'write_all_set': 0,\n",
       " 'write_random': 0}"
      ]
     },
     "execution_count": 22,
     "metadata": {},
     "output_type": "execute_result"
    }
   ],
   "source": [
    "import numpy as np\n",
    "import seaborn as sns\n",
    "import matplotlib.pyplot as plt\n",
    "import pandas as pd\n",
    "from utils import Element\n",
    "import warnings\n",
    "import cognitive_functions as cf\n",
    "warnings.filterwarnings('ignore')\n",
    "\n",
    "kc = KComplexity()\n",
    "kc.reset()\n",
    "cf.alternate(train_1)\n",
    "kc.get_k_complexity()\n",
    "kc.get_prim_counts()"
   ]
  },
  {
   "cell_type": "code",
   "execution_count": null,
   "id": "da9b45ff",
   "metadata": {},
   "outputs": [
    {
     "ename": "TypeError",
     "evalue": "chaining() missing 1 required positional argument: 'associations'",
     "output_type": "error",
     "traceback": [
      "\u001b[1;31m---------------------------------------------------------------------------\u001b[0m",
      "\u001b[1;31mTypeError\u001b[0m                                 Traceback (most recent call last)",
      "Cell \u001b[1;32mIn[29], line 12\u001b[0m\n\u001b[0;32m     10\u001b[0m kc \u001b[38;5;241m=\u001b[39m KComplexity()\n\u001b[0;32m     11\u001b[0m kc\u001b[38;5;241m.\u001b[39mreset()\n\u001b[1;32m---> 12\u001b[0m \u001b[43mcf\u001b[49m\u001b[38;5;241;43m.\u001b[39;49m\u001b[43mchaining\u001b[49m\u001b[43m(\u001b[49m\u001b[43mtrain_1\u001b[49m\u001b[43m)\u001b[49m\n\u001b[0;32m     13\u001b[0m kc\u001b[38;5;241m.\u001b[39mget_k_complexity()\n\u001b[0;32m     14\u001b[0m kc\u001b[38;5;241m.\u001b[39mget_prim_counts()\n",
      "\u001b[1;31mTypeError\u001b[0m: chaining() missing 1 required positional argument: 'associations'"
     ]
    }
   ],
   "source": [
    "import numpy as np\n",
    "import seaborn as sns\n",
    "import matplotlib.pyplot as plt\n",
    "import pandas as pd\n",
    "from utils import Element\n",
    "import warnings\n",
    "import cognitive_functions as cf\n",
    "warnings.filterwarnings('ignore')\n",
    "\n",
    "kc = KComplexity()\n",
    "kc.reset()\n",
    "cf.chaining(train_1)\n",
    "kc.get_k_complexity()\n",
    "kc.get_prim_counts()"
   ]
  },
  {
   "cell_type": "code",
   "execution_count": null,
   "id": "590c9d20",
   "metadata": {},
   "outputs": [
    {
     "data": {
      "text/plain": [
       "{'add': 0,\n",
       " 'append': 0,\n",
       " 'check_if_same_type': 0,\n",
       " 'dim_set': 0,\n",
       " 'flip': 0,\n",
       " 'implement': 0,\n",
       " 'list_create': 0,\n",
       " 'merge': 0,\n",
       " 'pair': 0,\n",
       " 'remove': 0,\n",
       " 'remove_item': 0,\n",
       " 'sample': 0,\n",
       " 'setminus': 0,\n",
       " 'write_all': 0,\n",
       " 'write_all_set': 0,\n",
       " 'write_random': 0}"
      ]
     },
     "execution_count": 30,
     "metadata": {},
     "output_type": "execute_result"
    }
   ],
   "source": [
    "import numpy as np\n",
    "import seaborn as sns\n",
    "import matplotlib.pyplot as plt\n",
    "import pandas as pd\n",
    "from utils import Element\n",
    "import warnings\n",
    "import cognitive_functions as cf\n",
    "warnings.filterwarnings('ignore')\n",
    "\n",
    "kc = KComplexity()\n",
    "kc.reset()\n",
    "cf.seriate(train_1)\n",
    "kc.get_k_complexity()\n",
    "kc.get_prim_counts()"
   ]
  },
  {
   "cell_type": "code",
   "execution_count": null,
   "id": "7e2d4e07",
   "metadata": {},
   "outputs": [
    {
     "ename": "AttributeError",
     "evalue": "'set' object has no attribute 'edges'",
     "output_type": "error",
     "traceback": [
      "\u001b[1;31m---------------------------------------------------------------------------\u001b[0m",
      "\u001b[1;31mAttributeError\u001b[0m                            Traceback (most recent call last)",
      "Cell \u001b[1;32mIn[31], line 12\u001b[0m\n\u001b[0;32m     10\u001b[0m kc \u001b[38;5;241m=\u001b[39m KComplexity()\n\u001b[0;32m     11\u001b[0m kc\u001b[38;5;241m.\u001b[39mreset()\n\u001b[1;32m---> 12\u001b[0m \u001b[43mcf\u001b[49m\u001b[38;5;241;43m.\u001b[39;49m\u001b[43mserial_crossed\u001b[49m\u001b[43m(\u001b[49m\u001b[43mtrain_1\u001b[49m\u001b[43m)\u001b[49m\n\u001b[0;32m     13\u001b[0m kc\u001b[38;5;241m.\u001b[39mget_k_complexity()\n\u001b[0;32m     14\u001b[0m kc\u001b[38;5;241m.\u001b[39mget_prim_counts()\n",
      "File \u001b[1;32mc:\\Users\\desig\\Desktop\\vs code\\LoT\\LoT-modeling\\cognitive_functions.py:145\u001b[0m, in \u001b[0;36mserial_crossed\u001b[1;34m(S)\u001b[0m\n\u001b[0;32m    143\u001b[0m         pf\u001b[38;5;241m.\u001b[39msetminus(S, element)\n\u001b[0;32m    144\u001b[0m \u001b[38;5;28;01mfor\u001b[39;00m _ \u001b[38;5;129;01min\u001b[39;00m \u001b[38;5;28mrange\u001b[39m(n):\n\u001b[1;32m--> 145\u001b[0m     element \u001b[38;5;241m=\u001b[39m \u001b[43mpf\u001b[49m\u001b[38;5;241;43m.\u001b[39;49m\u001b[43mwrite_random\u001b[49m\u001b[43m(\u001b[49m\u001b[43mS\u001b[49m\u001b[43m,\u001b[49m\u001b[43m \u001b[49m\u001b[43mbias\u001b[49m\u001b[43m[\u001b[49m\u001b[38;5;241;43m1\u001b[39;49m\u001b[43m]\u001b[49m\u001b[43m,\u001b[49m\u001b[43m \u001b[49m\u001b[38;5;28;43mgetattr\u001b[39;49m\u001b[43m(\u001b[49m\u001b[43mresult\u001b[49m\u001b[43m[\u001b[49m\u001b[43m_\u001b[49m\u001b[43m]\u001b[49m\u001b[43m,\u001b[49m\u001b[43m \u001b[49m\u001b[43mbias\u001b[49m\u001b[43m[\u001b[49m\u001b[38;5;241;43m1\u001b[39;49m\u001b[43m]\u001b[49m\u001b[43m)\u001b[49m\u001b[43m)\u001b[49m\n\u001b[0;32m    146\u001b[0m     pf\u001b[38;5;241m.\u001b[39mpair(result, element)\n\u001b[0;32m    147\u001b[0m     pf\u001b[38;5;241m.\u001b[39msetminus(S, element)\n",
      "File \u001b[1;32mc:\\Users\\desig\\Desktop\\vs code\\LoT\\LoT-modeling\\utils.py:167\u001b[0m, in \u001b[0;36mKComplexity._make_wrapper.<locals>.wrapper\u001b[1;34m(*args, **kwargs)\u001b[0m\n\u001b[0;32m    165\u001b[0m \u001b[38;5;28;01mdef\u001b[39;00m\u001b[38;5;250m \u001b[39m\u001b[38;5;21mwrapper\u001b[39m(\u001b[38;5;241m*\u001b[39margs, \u001b[38;5;241m*\u001b[39m\u001b[38;5;241m*\u001b[39mkwargs):\n\u001b[0;32m    166\u001b[0m     \u001b[38;5;28mself\u001b[39m\u001b[38;5;241m.\u001b[39mcall_counts[name] \u001b[38;5;241m+\u001b[39m\u001b[38;5;241m=\u001b[39m \u001b[38;5;241m1\u001b[39m\n\u001b[1;32m--> 167\u001b[0m     \u001b[38;5;28;01mreturn\u001b[39;00m \u001b[43mfunc\u001b[49m\u001b[43m(\u001b[49m\u001b[38;5;241;43m*\u001b[39;49m\u001b[43margs\u001b[49m\u001b[43m,\u001b[49m\u001b[43m \u001b[49m\u001b[38;5;241;43m*\u001b[39;49m\u001b[38;5;241;43m*\u001b[39;49m\u001b[43mkwargs\u001b[49m\u001b[43m)\u001b[49m\n",
      "File \u001b[1;32mc:\\Users\\desig\\Desktop\\vs code\\LoT\\LoT-modeling\\utils.py:167\u001b[0m, in \u001b[0;36mKComplexity._make_wrapper.<locals>.wrapper\u001b[1;34m(*args, **kwargs)\u001b[0m\n\u001b[0;32m    165\u001b[0m \u001b[38;5;28;01mdef\u001b[39;00m\u001b[38;5;250m \u001b[39m\u001b[38;5;21mwrapper\u001b[39m(\u001b[38;5;241m*\u001b[39margs, \u001b[38;5;241m*\u001b[39m\u001b[38;5;241m*\u001b[39mkwargs):\n\u001b[0;32m    166\u001b[0m     \u001b[38;5;28mself\u001b[39m\u001b[38;5;241m.\u001b[39mcall_counts[name] \u001b[38;5;241m+\u001b[39m\u001b[38;5;241m=\u001b[39m \u001b[38;5;241m1\u001b[39m\n\u001b[1;32m--> 167\u001b[0m     \u001b[38;5;28;01mreturn\u001b[39;00m \u001b[43mfunc\u001b[49m\u001b[43m(\u001b[49m\u001b[38;5;241;43m*\u001b[39;49m\u001b[43margs\u001b[49m\u001b[43m,\u001b[49m\u001b[43m \u001b[49m\u001b[38;5;241;43m*\u001b[39;49m\u001b[38;5;241;43m*\u001b[39;49m\u001b[43mkwargs\u001b[49m\u001b[43m)\u001b[49m\n",
      "    \u001b[1;31m[... skipping similar frames: KComplexity._make_wrapper.<locals>.wrapper at line 167 (9 times)]\u001b[0m\n",
      "File \u001b[1;32mc:\\Users\\desig\\Desktop\\vs code\\LoT\\LoT-modeling\\utils.py:167\u001b[0m, in \u001b[0;36mKComplexity._make_wrapper.<locals>.wrapper\u001b[1;34m(*args, **kwargs)\u001b[0m\n\u001b[0;32m    165\u001b[0m \u001b[38;5;28;01mdef\u001b[39;00m\u001b[38;5;250m \u001b[39m\u001b[38;5;21mwrapper\u001b[39m(\u001b[38;5;241m*\u001b[39margs, \u001b[38;5;241m*\u001b[39m\u001b[38;5;241m*\u001b[39mkwargs):\n\u001b[0;32m    166\u001b[0m     \u001b[38;5;28mself\u001b[39m\u001b[38;5;241m.\u001b[39mcall_counts[name] \u001b[38;5;241m+\u001b[39m\u001b[38;5;241m=\u001b[39m \u001b[38;5;241m1\u001b[39m\n\u001b[1;32m--> 167\u001b[0m     \u001b[38;5;28;01mreturn\u001b[39;00m \u001b[43mfunc\u001b[49m\u001b[43m(\u001b[49m\u001b[38;5;241;43m*\u001b[39;49m\u001b[43margs\u001b[49m\u001b[43m,\u001b[49m\u001b[43m \u001b[49m\u001b[38;5;241;43m*\u001b[39;49m\u001b[38;5;241;43m*\u001b[39;49m\u001b[43mkwargs\u001b[49m\u001b[43m)\u001b[49m\n",
      "File \u001b[1;32mc:\\Users\\desig\\Desktop\\vs code\\LoT\\LoT-modeling\\primitive_fucntions.py:97\u001b[0m, in \u001b[0;36mwrite_random\u001b[1;34m(G, bias, type)\u001b[0m\n\u001b[0;32m     92\u001b[0m \u001b[38;5;250m\u001b[39m\u001b[38;5;124;03m\"\"\"Returns one unused member of particular type\u001b[39;00m\n\u001b[0;32m     93\u001b[0m \u001b[38;5;124;03mTime complexity: O(n) to filter tokens\"\"\"\u001b[39;00m\n\u001b[0;32m     94\u001b[0m \u001b[38;5;66;03m# for element in S:\u001b[39;00m\n\u001b[0;32m     95\u001b[0m \u001b[38;5;66;03m#     if getattr(element, bias) == type:\u001b[39;00m\n\u001b[0;32m     96\u001b[0m \u001b[38;5;66;03m#         return element\u001b[39;00m\n\u001b[1;32m---> 97\u001b[0m type_elements \u001b[38;5;241m=\u001b[39m [u \u001b[38;5;28;01mfor\u001b[39;00m u, v, d \u001b[38;5;129;01min\u001b[39;00m \u001b[43mG\u001b[49m\u001b[38;5;241;43m.\u001b[39;49m\u001b[43medges\u001b[49m(data\u001b[38;5;241m=\u001b[39m\u001b[38;5;28;01mTrue\u001b[39;00m) \u001b[38;5;28;01mif\u001b[39;00m v \u001b[38;5;241m==\u001b[39m \u001b[38;5;28mtype\u001b[39m \u001b[38;5;129;01mand\u001b[39;00m d[\u001b[38;5;124m\"\u001b[39m\u001b[38;5;124mlabel\u001b[39m\u001b[38;5;124m\"\u001b[39m] \u001b[38;5;241m==\u001b[39m bias]\n\u001b[0;32m     99\u001b[0m     \u001b[38;5;66;03m### WRITE CODE\u001b[39;00m\n\u001b[0;32m    100\u001b[0m     \u001b[38;5;66;03m### maybe add a random list shuffling thing here\u001b[39;00m\n\u001b[0;32m    101\u001b[0m     \u001b[38;5;66;03m### to make it less predictable\u001b[39;00m\n\u001b[0;32m    103\u001b[0m \u001b[38;5;28;01mpass\u001b[39;00m\n",
      "\u001b[1;31mAttributeError\u001b[0m: 'set' object has no attribute 'edges'"
     ]
    }
   ],
   "source": [
    "import numpy as np\n",
    "import seaborn as sns\n",
    "import matplotlib.pyplot as plt\n",
    "import pandas as pd\n",
    "from utils import Element\n",
    "import warnings\n",
    "import cognitive_functions as cf\n",
    "warnings.filterwarnings('ignore')\n",
    "\n",
    "kc = KComplexity()\n",
    "kc.reset()\n",
    "cf.serial_crossed(train_1)\n",
    "kc.get_k_complexity()\n",
    "kc.get_prim_counts()"
   ]
  },
  {
   "cell_type": "code",
   "execution_count": null,
   "id": "092f34e3",
   "metadata": {},
   "outputs": [
    {
     "ename": "KeyboardInterrupt",
     "evalue": "",
     "output_type": "error",
     "traceback": [
      "\u001b[1;31m---------------------------------------------------------------------------\u001b[0m",
      "\u001b[1;31mKeyboardInterrupt\u001b[0m                         Traceback (most recent call last)",
      "Cell \u001b[1;32mIn[32], line 12\u001b[0m\n\u001b[0;32m     10\u001b[0m kc \u001b[38;5;241m=\u001b[39m KComplexity()\n\u001b[0;32m     11\u001b[0m kc\u001b[38;5;241m.\u001b[39mreset()\n\u001b[1;32m---> 12\u001b[0m \u001b[43mcf\u001b[49m\u001b[38;5;241;43m.\u001b[39;49m\u001b[43mcenter_embedded\u001b[49m\u001b[43m(\u001b[49m\u001b[43mtrain_1\u001b[49m\u001b[43m)\u001b[49m\n\u001b[0;32m     13\u001b[0m kc\u001b[38;5;241m.\u001b[39mget_k_complexity()\n\u001b[0;32m     14\u001b[0m kc\u001b[38;5;241m.\u001b[39mget_prim_counts()\n",
      "File \u001b[1;32mc:\\Users\\desig\\Desktop\\vs code\\LoT\\LoT-modeling\\cognitive_functions.py:158\u001b[0m, in \u001b[0;36mcenter_embedded\u001b[1;34m(S)\u001b[0m\n\u001b[0;32m    156\u001b[0m result \u001b[38;5;241m=\u001b[39m []\n\u001b[0;32m    157\u001b[0m \u001b[38;5;28;01mwhile\u001b[39;00m \u001b[38;5;28mlen\u001b[39m(S) \u001b[38;5;241m>\u001b[39m \u001b[38;5;241m0\u001b[39m:\n\u001b[1;32m--> 158\u001b[0m     element \u001b[38;5;241m=\u001b[39m \u001b[43mpf\u001b[49m\u001b[38;5;241;43m.\u001b[39;49m\u001b[43msample\u001b[49m\u001b[43m(\u001b[49m\u001b[43mS\u001b[49m\u001b[43m)\u001b[49m\n\u001b[0;32m    159\u001b[0m     \u001b[38;5;28;01mif\u001b[39;00m \u001b[38;5;28mlen\u001b[39m(result) \u001b[38;5;241m==\u001b[39m \u001b[38;5;241m0\u001b[39m \u001b[38;5;129;01mor\u001b[39;00m pf\u001b[38;5;241m.\u001b[39mcheck_if_same_type(element, result[\u001b[38;5;241m-\u001b[39m\u001b[38;5;241m1\u001b[39m], bias[\u001b[38;5;241m0\u001b[39m]):\n\u001b[0;32m    160\u001b[0m         pf\u001b[38;5;241m.\u001b[39mpair(result, element)\n",
      "File \u001b[1;32mc:\\Users\\desig\\Desktop\\vs code\\LoT\\LoT-modeling\\utils.py:167\u001b[0m, in \u001b[0;36mKComplexity._make_wrapper.<locals>.wrapper\u001b[1;34m(*args, **kwargs)\u001b[0m\n\u001b[0;32m    165\u001b[0m \u001b[38;5;28;01mdef\u001b[39;00m\u001b[38;5;250m \u001b[39m\u001b[38;5;21mwrapper\u001b[39m(\u001b[38;5;241m*\u001b[39margs, \u001b[38;5;241m*\u001b[39m\u001b[38;5;241m*\u001b[39mkwargs):\n\u001b[0;32m    166\u001b[0m     \u001b[38;5;28mself\u001b[39m\u001b[38;5;241m.\u001b[39mcall_counts[name] \u001b[38;5;241m+\u001b[39m\u001b[38;5;241m=\u001b[39m \u001b[38;5;241m1\u001b[39m\n\u001b[1;32m--> 167\u001b[0m     \u001b[38;5;28;01mreturn\u001b[39;00m \u001b[43mfunc\u001b[49m\u001b[43m(\u001b[49m\u001b[38;5;241;43m*\u001b[39;49m\u001b[43margs\u001b[49m\u001b[43m,\u001b[49m\u001b[43m \u001b[49m\u001b[38;5;241;43m*\u001b[39;49m\u001b[38;5;241;43m*\u001b[39;49m\u001b[43mkwargs\u001b[49m\u001b[43m)\u001b[49m\n",
      "File \u001b[1;32mc:\\Users\\desig\\Desktop\\vs code\\LoT\\LoT-modeling\\utils.py:167\u001b[0m, in \u001b[0;36mKComplexity._make_wrapper.<locals>.wrapper\u001b[1;34m(*args, **kwargs)\u001b[0m\n\u001b[0;32m    165\u001b[0m \u001b[38;5;28;01mdef\u001b[39;00m\u001b[38;5;250m \u001b[39m\u001b[38;5;21mwrapper\u001b[39m(\u001b[38;5;241m*\u001b[39margs, \u001b[38;5;241m*\u001b[39m\u001b[38;5;241m*\u001b[39mkwargs):\n\u001b[0;32m    166\u001b[0m     \u001b[38;5;28mself\u001b[39m\u001b[38;5;241m.\u001b[39mcall_counts[name] \u001b[38;5;241m+\u001b[39m\u001b[38;5;241m=\u001b[39m \u001b[38;5;241m1\u001b[39m\n\u001b[1;32m--> 167\u001b[0m     \u001b[38;5;28;01mreturn\u001b[39;00m \u001b[43mfunc\u001b[49m\u001b[43m(\u001b[49m\u001b[38;5;241;43m*\u001b[39;49m\u001b[43margs\u001b[49m\u001b[43m,\u001b[49m\u001b[43m \u001b[49m\u001b[38;5;241;43m*\u001b[39;49m\u001b[38;5;241;43m*\u001b[39;49m\u001b[43mkwargs\u001b[49m\u001b[43m)\u001b[49m\n",
      "    \u001b[1;31m[... skipping similar frames: KComplexity._make_wrapper.<locals>.wrapper at line 167 (10 times)]\u001b[0m\n",
      "File \u001b[1;32mc:\\Users\\desig\\Desktop\\vs code\\LoT\\LoT-modeling\\utils.py:167\u001b[0m, in \u001b[0;36mKComplexity._make_wrapper.<locals>.wrapper\u001b[1;34m(*args, **kwargs)\u001b[0m\n\u001b[0;32m    165\u001b[0m \u001b[38;5;28;01mdef\u001b[39;00m\u001b[38;5;250m \u001b[39m\u001b[38;5;21mwrapper\u001b[39m(\u001b[38;5;241m*\u001b[39margs, \u001b[38;5;241m*\u001b[39m\u001b[38;5;241m*\u001b[39mkwargs):\n\u001b[0;32m    166\u001b[0m     \u001b[38;5;28mself\u001b[39m\u001b[38;5;241m.\u001b[39mcall_counts[name] \u001b[38;5;241m+\u001b[39m\u001b[38;5;241m=\u001b[39m \u001b[38;5;241m1\u001b[39m\n\u001b[1;32m--> 167\u001b[0m     \u001b[38;5;28;01mreturn\u001b[39;00m \u001b[43mfunc\u001b[49m\u001b[43m(\u001b[49m\u001b[38;5;241;43m*\u001b[39;49m\u001b[43margs\u001b[49m\u001b[43m,\u001b[49m\u001b[43m \u001b[49m\u001b[38;5;241;43m*\u001b[39;49m\u001b[38;5;241;43m*\u001b[39;49m\u001b[43mkwargs\u001b[49m\u001b[43m)\u001b[49m\n",
      "File \u001b[1;32mc:\\Users\\desig\\Desktop\\vs code\\LoT\\LoT-modeling\\primitive_fucntions.py:45\u001b[0m, in \u001b[0;36msample\u001b[1;34m(collection)\u001b[0m\n\u001b[0;32m     42\u001b[0m     \u001b[38;5;28;01mreturn\u001b[39;00m \u001b[38;5;28;01mNone\u001b[39;00m\n\u001b[0;32m     44\u001b[0m \u001b[38;5;28;01mif\u001b[39;00m \u001b[38;5;28misinstance\u001b[39m(collection, \u001b[38;5;28mset\u001b[39m):\n\u001b[1;32m---> 45\u001b[0m     collection \u001b[38;5;241m=\u001b[39m \u001b[38;5;28;43mtuple\u001b[39;49m\u001b[43m(\u001b[49m\u001b[43mcollection\u001b[49m\u001b[43m)\u001b[49m  \u001b[38;5;66;03m# Convert to tuple for sampling\u001b[39;00m\n\u001b[0;32m     47\u001b[0m \u001b[38;5;28;01mreturn\u001b[39;00m random\u001b[38;5;241m.\u001b[39msample(collection, \u001b[38;5;241m1\u001b[39m)[\u001b[38;5;241m0\u001b[39m]\n",
      "\u001b[1;31mKeyboardInterrupt\u001b[0m: "
     ]
    }
   ],
   "source": [
    "import numpy as np\n",
    "import seaborn as sns\n",
    "import matplotlib.pyplot as plt\n",
    "import pandas as pd\n",
    "from utils import Element\n",
    "import warnings\n",
    "import cognitive_functions as cf\n",
    "warnings.filterwarnings('ignore')\n",
    "\n",
    "kc = KComplexity()\n",
    "kc.reset()\n",
    "cf.center_embedded(train_1)\n",
    "kc.get_k_complexity()\n",
    "kc.get_prim_counts()"
   ]
  },
  {
   "cell_type": "code",
   "execution_count": null,
   "id": "ca81ceaf",
   "metadata": {},
   "outputs": [
    {
     "ename": "AttributeError",
     "evalue": "'set' object has no attribute 'edges'",
     "output_type": "error",
     "traceback": [
      "\u001b[1;31m---------------------------------------------------------------------------\u001b[0m",
      "\u001b[1;31mAttributeError\u001b[0m                            Traceback (most recent call last)",
      "Cell \u001b[1;32mIn[33], line 12\u001b[0m\n\u001b[0;32m     10\u001b[0m kc \u001b[38;5;241m=\u001b[39m KComplexity()\n\u001b[0;32m     11\u001b[0m kc\u001b[38;5;241m.\u001b[39mreset()\n\u001b[1;32m---> 12\u001b[0m \u001b[43mcf\u001b[49m\u001b[38;5;241;43m.\u001b[39;49m\u001b[43mtail_recursive\u001b[49m\u001b[43m(\u001b[49m\u001b[43mtrain_1\u001b[49m\u001b[43m)\u001b[49m\n\u001b[0;32m     13\u001b[0m kc\u001b[38;5;241m.\u001b[39mget_k_complexity()\n\u001b[0;32m     14\u001b[0m kc\u001b[38;5;241m.\u001b[39mget_prim_counts()\n",
      "File \u001b[1;32mc:\\Users\\desig\\Desktop\\vs code\\LoT\\LoT-modeling\\cognitive_functions.py:178\u001b[0m, in \u001b[0;36mtail_recursive\u001b[1;34m(S)\u001b[0m\n\u001b[0;32m    176\u001b[0m element \u001b[38;5;241m=\u001b[39m pf\u001b[38;5;241m.\u001b[39msample(S)\n\u001b[0;32m    177\u001b[0m pf\u001b[38;5;241m.\u001b[39msetminus(S, element)\n\u001b[1;32m--> 178\u001b[0m paired_element \u001b[38;5;241m=\u001b[39m \u001b[43mpf\u001b[49m\u001b[38;5;241;43m.\u001b[39;49m\u001b[43mwrite_random\u001b[49m\u001b[43m(\u001b[49m\u001b[43mS\u001b[49m\u001b[43m,\u001b[49m\u001b[43m \u001b[49m\u001b[43mbias\u001b[49m\u001b[43m[\u001b[49m\u001b[38;5;241;43m0\u001b[39;49m\u001b[43m]\u001b[49m\u001b[43m,\u001b[49m\u001b[43m \u001b[49m\u001b[38;5;28;43mgetattr\u001b[39;49m\u001b[43m(\u001b[49m\u001b[43melement\u001b[49m\u001b[43m,\u001b[49m\u001b[43m \u001b[49m\u001b[43mbias\u001b[49m\u001b[43m[\u001b[49m\u001b[38;5;241;43m0\u001b[39;49m\u001b[43m]\u001b[49m\u001b[43m)\u001b[49m\u001b[43m)\u001b[49m\n\u001b[0;32m    179\u001b[0m result \u001b[38;5;241m=\u001b[39m pf\u001b[38;5;241m.\u001b[39mappend(result, pf\u001b[38;5;241m.\u001b[39mmerge(element, paired_element))\n\u001b[0;32m    180\u001b[0m pf\u001b[38;5;241m.\u001b[39msetminus(S, paired_element)\n",
      "File \u001b[1;32mc:\\Users\\desig\\Desktop\\vs code\\LoT\\LoT-modeling\\utils.py:167\u001b[0m, in \u001b[0;36mKComplexity._make_wrapper.<locals>.wrapper\u001b[1;34m(*args, **kwargs)\u001b[0m\n\u001b[0;32m    165\u001b[0m \u001b[38;5;28;01mdef\u001b[39;00m\u001b[38;5;250m \u001b[39m\u001b[38;5;21mwrapper\u001b[39m(\u001b[38;5;241m*\u001b[39margs, \u001b[38;5;241m*\u001b[39m\u001b[38;5;241m*\u001b[39mkwargs):\n\u001b[0;32m    166\u001b[0m     \u001b[38;5;28mself\u001b[39m\u001b[38;5;241m.\u001b[39mcall_counts[name] \u001b[38;5;241m+\u001b[39m\u001b[38;5;241m=\u001b[39m \u001b[38;5;241m1\u001b[39m\n\u001b[1;32m--> 167\u001b[0m     \u001b[38;5;28;01mreturn\u001b[39;00m \u001b[43mfunc\u001b[49m\u001b[43m(\u001b[49m\u001b[38;5;241;43m*\u001b[39;49m\u001b[43margs\u001b[49m\u001b[43m,\u001b[49m\u001b[43m \u001b[49m\u001b[38;5;241;43m*\u001b[39;49m\u001b[38;5;241;43m*\u001b[39;49m\u001b[43mkwargs\u001b[49m\u001b[43m)\u001b[49m\n",
      "File \u001b[1;32mc:\\Users\\desig\\Desktop\\vs code\\LoT\\LoT-modeling\\utils.py:167\u001b[0m, in \u001b[0;36mKComplexity._make_wrapper.<locals>.wrapper\u001b[1;34m(*args, **kwargs)\u001b[0m\n\u001b[0;32m    165\u001b[0m \u001b[38;5;28;01mdef\u001b[39;00m\u001b[38;5;250m \u001b[39m\u001b[38;5;21mwrapper\u001b[39m(\u001b[38;5;241m*\u001b[39margs, \u001b[38;5;241m*\u001b[39m\u001b[38;5;241m*\u001b[39mkwargs):\n\u001b[0;32m    166\u001b[0m     \u001b[38;5;28mself\u001b[39m\u001b[38;5;241m.\u001b[39mcall_counts[name] \u001b[38;5;241m+\u001b[39m\u001b[38;5;241m=\u001b[39m \u001b[38;5;241m1\u001b[39m\n\u001b[1;32m--> 167\u001b[0m     \u001b[38;5;28;01mreturn\u001b[39;00m \u001b[43mfunc\u001b[49m\u001b[43m(\u001b[49m\u001b[38;5;241;43m*\u001b[39;49m\u001b[43margs\u001b[49m\u001b[43m,\u001b[49m\u001b[43m \u001b[49m\u001b[38;5;241;43m*\u001b[39;49m\u001b[38;5;241;43m*\u001b[39;49m\u001b[43mkwargs\u001b[49m\u001b[43m)\u001b[49m\n",
      "    \u001b[1;31m[... skipping similar frames: KComplexity._make_wrapper.<locals>.wrapper at line 167 (11 times)]\u001b[0m\n",
      "File \u001b[1;32mc:\\Users\\desig\\Desktop\\vs code\\LoT\\LoT-modeling\\utils.py:167\u001b[0m, in \u001b[0;36mKComplexity._make_wrapper.<locals>.wrapper\u001b[1;34m(*args, **kwargs)\u001b[0m\n\u001b[0;32m    165\u001b[0m \u001b[38;5;28;01mdef\u001b[39;00m\u001b[38;5;250m \u001b[39m\u001b[38;5;21mwrapper\u001b[39m(\u001b[38;5;241m*\u001b[39margs, \u001b[38;5;241m*\u001b[39m\u001b[38;5;241m*\u001b[39mkwargs):\n\u001b[0;32m    166\u001b[0m     \u001b[38;5;28mself\u001b[39m\u001b[38;5;241m.\u001b[39mcall_counts[name] \u001b[38;5;241m+\u001b[39m\u001b[38;5;241m=\u001b[39m \u001b[38;5;241m1\u001b[39m\n\u001b[1;32m--> 167\u001b[0m     \u001b[38;5;28;01mreturn\u001b[39;00m \u001b[43mfunc\u001b[49m\u001b[43m(\u001b[49m\u001b[38;5;241;43m*\u001b[39;49m\u001b[43margs\u001b[49m\u001b[43m,\u001b[49m\u001b[43m \u001b[49m\u001b[38;5;241;43m*\u001b[39;49m\u001b[38;5;241;43m*\u001b[39;49m\u001b[43mkwargs\u001b[49m\u001b[43m)\u001b[49m\n",
      "File \u001b[1;32mc:\\Users\\desig\\Desktop\\vs code\\LoT\\LoT-modeling\\primitive_fucntions.py:97\u001b[0m, in \u001b[0;36mwrite_random\u001b[1;34m(G, bias, type)\u001b[0m\n\u001b[0;32m     92\u001b[0m \u001b[38;5;250m\u001b[39m\u001b[38;5;124;03m\"\"\"Returns one unused member of particular type\u001b[39;00m\n\u001b[0;32m     93\u001b[0m \u001b[38;5;124;03mTime complexity: O(n) to filter tokens\"\"\"\u001b[39;00m\n\u001b[0;32m     94\u001b[0m \u001b[38;5;66;03m# for element in S:\u001b[39;00m\n\u001b[0;32m     95\u001b[0m \u001b[38;5;66;03m#     if getattr(element, bias) == type:\u001b[39;00m\n\u001b[0;32m     96\u001b[0m \u001b[38;5;66;03m#         return element\u001b[39;00m\n\u001b[1;32m---> 97\u001b[0m type_elements \u001b[38;5;241m=\u001b[39m [u \u001b[38;5;28;01mfor\u001b[39;00m u, v, d \u001b[38;5;129;01min\u001b[39;00m \u001b[43mG\u001b[49m\u001b[38;5;241;43m.\u001b[39;49m\u001b[43medges\u001b[49m(data\u001b[38;5;241m=\u001b[39m\u001b[38;5;28;01mTrue\u001b[39;00m) \u001b[38;5;28;01mif\u001b[39;00m v \u001b[38;5;241m==\u001b[39m \u001b[38;5;28mtype\u001b[39m \u001b[38;5;129;01mand\u001b[39;00m d[\u001b[38;5;124m\"\u001b[39m\u001b[38;5;124mlabel\u001b[39m\u001b[38;5;124m\"\u001b[39m] \u001b[38;5;241m==\u001b[39m bias]\n\u001b[0;32m     99\u001b[0m     \u001b[38;5;66;03m### WRITE CODE\u001b[39;00m\n\u001b[0;32m    100\u001b[0m     \u001b[38;5;66;03m### maybe add a random list shuffling thing here\u001b[39;00m\n\u001b[0;32m    101\u001b[0m     \u001b[38;5;66;03m### to make it less predictable\u001b[39;00m\n\u001b[0;32m    103\u001b[0m \u001b[38;5;28;01mpass\u001b[39;00m\n",
      "\u001b[1;31mAttributeError\u001b[0m: 'set' object has no attribute 'edges'"
     ]
    }
   ],
   "source": [
    "import numpy as np\n",
    "import seaborn as sns\n",
    "import matplotlib.pyplot as plt\n",
    "import pandas as pd\n",
    "from utils import Element\n",
    "import warnings\n",
    "import cognitive_functions as cf\n",
    "warnings.filterwarnings('ignore')\n",
    "\n",
    "kc = KComplexity()\n",
    "kc.reset()\n",
    "cf.tail_recursive(train_1)\n",
    "kc.get_k_complexity()\n",
    "kc.get_prim_counts()"
   ]
  },
  {
   "cell_type": "code",
   "execution_count": null,
   "id": "c2134ce3",
   "metadata": {},
   "outputs": [
    {
     "ename": "TypeError",
     "evalue": "find_bias() missing 1 required positional argument: 'clock'",
     "output_type": "error",
     "traceback": [
      "\u001b[1;31m---------------------------------------------------------------------------\u001b[0m",
      "\u001b[1;31mTypeError\u001b[0m                                 Traceback (most recent call last)",
      "Cell \u001b[1;32mIn[34], line 12\u001b[0m\n\u001b[0;32m     10\u001b[0m kc \u001b[38;5;241m=\u001b[39m KComplexity()\n\u001b[0;32m     11\u001b[0m kc\u001b[38;5;241m.\u001b[39mreset()\n\u001b[1;32m---> 12\u001b[0m \u001b[43mcf\u001b[49m\u001b[38;5;241;43m.\u001b[39;49m\u001b[43mfind_bias\u001b[49m\u001b[43m(\u001b[49m\u001b[43mtrain_1\u001b[49m\u001b[43m)\u001b[49m\n\u001b[0;32m     13\u001b[0m kc\u001b[38;5;241m.\u001b[39mget_k_complexity()\n\u001b[0;32m     14\u001b[0m kc\u001b[38;5;241m.\u001b[39mget_prim_counts()\n",
      "\u001b[1;31mTypeError\u001b[0m: find_bias() missing 1 required positional argument: 'clock'"
     ]
    }
   ],
   "source": [
    "import numpy as np\n",
    "import seaborn as sns\n",
    "import matplotlib.pyplot as plt\n",
    "import pandas as pd\n",
    "from utils import Element\n",
    "import warnings\n",
    "import cognitive_functions as cf\n",
    "warnings.filterwarnings('ignore')\n",
    "\n",
    "kc = KComplexity()\n",
    "kc.reset()\n",
    "cf.find_bias(train_1)\n",
    "kc.get_k_complexity()\n",
    "kc.get_prim_counts()"
   ]
  }
 ],
 "metadata": {
  "kernelspec": {
   "display_name": "lot_venv",
   "language": "python",
   "name": "python3"
  },
  "language_info": {
   "codemirror_mode": {
    "name": "ipython",
    "version": 3
   },
   "file_extension": ".py",
   "mimetype": "text/x-python",
   "name": "python",
   "nbconvert_exporter": "python",
   "pygments_lexer": "ipython3",
   "version": "3.13.5"
  }
 },
 "nbformat": 4,
 "nbformat_minor": 5
}
